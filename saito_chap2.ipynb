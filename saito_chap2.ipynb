{
 "cells": [
  {
   "cell_type": "markdown",
   "id": "4c8a1854",
   "metadata": {},
   "source": [
    "NO coding practices for this chapter\n"
   ]
  }
 ],
 "metadata": {
  "language_info": {
   "name": "python"
  }
 },
 "nbformat": 4,
 "nbformat_minor": 5
}
