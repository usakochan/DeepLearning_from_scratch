{
 "cells": [
  {
   "cell_type": "code",
   "execution_count": 1,
   "id": "30582911",
   "metadata": {},
   "outputs": [
    {
     "name": "stdout",
     "output_type": "stream",
     "text": [
      "Hello Python!\n"
     ]
    }
   ],
   "source": [
    "print(\"Hello Python!\")"
   ]
  },
  {
   "cell_type": "markdown",
   "id": "47049c28",
   "metadata": {},
   "source": [
    "# 算術計算"
   ]
  },
  {
   "cell_type": "code",
   "execution_count": 2,
   "id": "9beed9c3",
   "metadata": {},
   "outputs": [
    {
     "data": {
      "text/plain": [
       "20"
      ]
     },
     "execution_count": 2,
     "metadata": {},
     "output_type": "execute_result"
    }
   ],
   "source": [
    "4*5"
   ]
  },
  {
   "cell_type": "code",
   "execution_count": 3,
   "id": "b3a60a43",
   "metadata": {},
   "outputs": [
    {
     "data": {
      "text/plain": [
       "-12"
      ]
     },
     "execution_count": 3,
     "metadata": {},
     "output_type": "execute_result"
    }
   ],
   "source": [
    "1-13"
   ]
  },
  {
   "cell_type": "code",
   "execution_count": 4,
   "id": "e800a477",
   "metadata": {},
   "outputs": [
    {
     "data": {
      "text/plain": [
       "0.125"
      ]
     },
     "execution_count": 4,
     "metadata": {},
     "output_type": "execute_result"
    }
   ],
   "source": [
    "1/8"
   ]
  },
  {
   "cell_type": "code",
   "execution_count": 5,
   "id": "03bb1f53",
   "metadata": {},
   "outputs": [
    {
     "data": {
      "text/plain": [
       "1024"
      ]
     },
     "execution_count": 5,
     "metadata": {},
     "output_type": "execute_result"
    }
   ],
   "source": [
    "2 ** 10"
   ]
  },
  {
   "cell_type": "code",
   "execution_count": 6,
   "id": "f8802a8a",
   "metadata": {},
   "outputs": [
    {
     "data": {
      "text/plain": [
       "0.3333333333333333"
      ]
     },
     "execution_count": 6,
     "metadata": {},
     "output_type": "execute_result"
    }
   ],
   "source": [
    "1 / 3"
   ]
  },
  {
   "cell_type": "markdown",
   "id": "49c057a6",
   "metadata": {},
   "source": [
    "# データ型 (data type)"
   ]
  },
  {
   "cell_type": "code",
   "execution_count": 7,
   "id": "a7dea799",
   "metadata": {},
   "outputs": [
    {
     "data": {
      "text/plain": [
       "int"
      ]
     },
     "execution_count": 7,
     "metadata": {},
     "output_type": "execute_result"
    }
   ],
   "source": [
    "type(10)"
   ]
  },
  {
   "cell_type": "code",
   "execution_count": 8,
   "id": "dc9e74a8",
   "metadata": {},
   "outputs": [
    {
     "data": {
      "text/plain": [
       "float"
      ]
     },
     "execution_count": 8,
     "metadata": {},
     "output_type": "execute_result"
    }
   ],
   "source": [
    "type(3.141592658589793238)"
   ]
  },
  {
   "cell_type": "code",
   "execution_count": 9,
   "id": "c6844ee6",
   "metadata": {},
   "outputs": [
    {
     "data": {
      "text/plain": [
       "str"
      ]
     },
     "execution_count": 9,
     "metadata": {},
     "output_type": "execute_result"
    }
   ],
   "source": [
    "type(\"rio!\")"
   ]
  },
  {
   "cell_type": "markdown",
   "id": "896bbd37",
   "metadata": {},
   "source": [
    "# 変数 (variable)"
   ]
  },
  {
   "cell_type": "code",
   "execution_count": 10,
   "id": "a6838ca5",
   "metadata": {},
   "outputs": [],
   "source": [
    "x = 10 #初期化"
   ]
  },
  {
   "cell_type": "code",
   "execution_count": 11,
   "id": "93a1d957",
   "metadata": {},
   "outputs": [
    {
     "name": "stdout",
     "output_type": "stream",
     "text": [
      "10\n"
     ]
    }
   ],
   "source": [
    "print(x)"
   ]
  },
  {
   "cell_type": "code",
   "execution_count": 12,
   "id": "2399cce3",
   "metadata": {},
   "outputs": [],
   "source": [
    "x = 100 #代入"
   ]
  },
  {
   "cell_type": "code",
   "execution_count": 13,
   "id": "7cf40cad",
   "metadata": {},
   "outputs": [
    {
     "name": "stdout",
     "output_type": "stream",
     "text": [
      "100\n"
     ]
    }
   ],
   "source": [
    "print(x)"
   ]
  },
  {
   "cell_type": "code",
   "execution_count": 14,
   "id": "8a02af25",
   "metadata": {},
   "outputs": [
    {
     "data": {
      "text/plain": [
       "141.0"
      ]
     },
     "execution_count": 14,
     "metadata": {},
     "output_type": "execute_result"
    }
   ],
   "source": [
    "y = 1.41\n",
    "x * y"
   ]
  },
  {
   "cell_type": "code",
   "execution_count": 15,
   "id": "a54cd0e7",
   "metadata": {},
   "outputs": [
    {
     "data": {
      "text/plain": [
       "float"
      ]
     },
     "execution_count": 15,
     "metadata": {},
     "output_type": "execute_result"
    }
   ],
   "source": [
    "type(x*y)"
   ]
  },
  {
   "cell_type": "code",
   "execution_count": 16,
   "id": "d12259f0",
   "metadata": {},
   "outputs": [
    {
     "data": {
      "text/plain": [
       "int"
      ]
     },
     "execution_count": 16,
     "metadata": {},
     "output_type": "execute_result"
    }
   ],
   "source": [
    "y=3\n",
    "type(x*y)"
   ]
  },
  {
   "cell_type": "markdown",
   "id": "10ad6aa4",
   "metadata": {},
   "source": [
    "# リスト（配列）"
   ]
  },
  {
   "cell_type": "code",
   "execution_count": 17,
   "id": "01c4d014",
   "metadata": {},
   "outputs": [
    {
     "name": "stdout",
     "output_type": "stream",
     "text": [
      "[1, 2, 3, 4, 5]\n"
     ]
    }
   ],
   "source": [
    "a = [1, 2, 3, 4, 5]\n",
    "print(a)"
   ]
  },
  {
   "cell_type": "code",
   "execution_count": 18,
   "id": "3adaaa64",
   "metadata": {},
   "outputs": [
    {
     "data": {
      "text/plain": [
       "5"
      ]
     },
     "execution_count": 18,
     "metadata": {},
     "output_type": "execute_result"
    }
   ],
   "source": [
    "len(a) #リストのlength長さ"
   ]
  },
  {
   "cell_type": "code",
   "execution_count": 19,
   "id": "0548fa78",
   "metadata": {},
   "outputs": [
    {
     "data": {
      "text/plain": [
       "1"
      ]
     },
     "execution_count": 19,
     "metadata": {},
     "output_type": "execute_result"
    }
   ],
   "source": [
    "a[0] #インデックスの0番目（最初の要素）にアクセス"
   ]
  },
  {
   "cell_type": "code",
   "execution_count": 20,
   "id": "6afd343b",
   "metadata": {},
   "outputs": [
    {
     "data": {
      "text/plain": [
       "5"
      ]
     },
     "execution_count": 20,
     "metadata": {},
     "output_type": "execute_result"
    }
   ],
   "source": [
    "a[4] #インデックスの4番目（つまり5個目）の要素にアクセス"
   ]
  },
  {
   "cell_type": "code",
   "execution_count": 21,
   "id": "93aaac19",
   "metadata": {},
   "outputs": [
    {
     "name": "stdout",
     "output_type": "stream",
     "text": [
      "[1, 2, 3, 4, 99]\n"
     ]
    }
   ],
   "source": [
    "a[4] = 99 #値を代入\n",
    "print(a)"
   ]
  },
  {
   "cell_type": "markdown",
   "id": "137e5323",
   "metadata": {},
   "source": [
    "リストのサブリストにアクセスするスライシング（slicing）が可能。"
   ]
  },
  {
   "cell_type": "code",
   "execution_count": 22,
   "id": "645ee7b5",
   "metadata": {},
   "outputs": [
    {
     "data": {
      "text/plain": [
       "[1, 2]"
      ]
     },
     "execution_count": 22,
     "metadata": {},
     "output_type": "execute_result"
    }
   ],
   "source": [
    "a[0:2] #インデックス0–2番目まで（なのに2番目は含まない！）取得"
   ]
  },
  {
   "cell_type": "code",
   "execution_count": 23,
   "id": "bbaced0f",
   "metadata": {},
   "outputs": [
    {
     "data": {
      "text/plain": [
       "[2, 3, 4, 99]"
      ]
     },
     "execution_count": 23,
     "metadata": {},
     "output_type": "execute_result"
    }
   ],
   "source": [
    "a[1:] #インデックス１番目から最後まで"
   ]
  },
  {
   "cell_type": "code",
   "execution_count": 24,
   "id": "7a27b729",
   "metadata": {},
   "outputs": [
    {
     "data": {
      "text/plain": [
       "[1, 2, 3]"
      ]
     },
     "execution_count": 24,
     "metadata": {},
     "output_type": "execute_result"
    }
   ],
   "source": [
    "a[:3] #最初からインデックス3番目まで（3番目は含まない！）"
   ]
  },
  {
   "cell_type": "code",
   "execution_count": 25,
   "id": "6ddfd543",
   "metadata": {},
   "outputs": [
    {
     "data": {
      "text/plain": [
       "[1, 2, 3, 4]"
      ]
     },
     "execution_count": 25,
     "metadata": {},
     "output_type": "execute_result"
    }
   ],
   "source": [
    "a[:-1] #最初から最後の要素の一つ前まで(インデックス番号-1は最後の要素を指す)"
   ]
  },
  {
   "cell_type": "code",
   "execution_count": 26,
   "id": "5e49fab2",
   "metadata": {},
   "outputs": [
    {
     "data": {
      "text/plain": [
       "[1, 2, 3]"
      ]
     },
     "execution_count": 26,
     "metadata": {},
     "output_type": "execute_result"
    }
   ],
   "source": [
    "a[:-2] #(インデックス番号-2は最後からひとつ前の要素を指す)"
   ]
  },
  {
   "cell_type": "code",
   "execution_count": 27,
   "id": "d8235fc4",
   "metadata": {},
   "outputs": [
    {
     "data": {
      "text/plain": [
       "[3, 4]"
      ]
     },
     "execution_count": 27,
     "metadata": {},
     "output_type": "execute_result"
    }
   ],
   "source": [
    "a[-3:-1] #最後の要素から3つ前まで、から、最後の要素から1つ前まで"
   ]
  },
  {
   "cell_type": "markdown",
   "id": "d0b21fa9",
   "metadata": {},
   "source": [
    "# ブーリアン"
   ]
  },
  {
   "cell_type": "code",
   "execution_count": 28,
   "id": "03cb6dfb",
   "metadata": {},
   "outputs": [],
   "source": [
    "sento = True\n",
    "shower = False"
   ]
  },
  {
   "cell_type": "code",
   "execution_count": 29,
   "id": "49fd6bcd",
   "metadata": {},
   "outputs": [
    {
     "data": {
      "text/plain": [
       "bool"
      ]
     },
     "execution_count": 29,
     "metadata": {},
     "output_type": "execute_result"
    }
   ],
   "source": [
    "type(sento)"
   ]
  },
  {
   "cell_type": "code",
   "execution_count": 30,
   "id": "9d2b8066",
   "metadata": {},
   "outputs": [
    {
     "data": {
      "text/plain": [
       "bool"
      ]
     },
     "execution_count": 30,
     "metadata": {},
     "output_type": "execute_result"
    }
   ],
   "source": [
    "type(shower)"
   ]
  },
  {
   "cell_type": "code",
   "execution_count": 31,
   "id": "99132933",
   "metadata": {},
   "outputs": [
    {
     "data": {
      "text/plain": [
       "False"
      ]
     },
     "execution_count": 31,
     "metadata": {},
     "output_type": "execute_result"
    }
   ],
   "source": [
    "not sento"
   ]
  },
  {
   "cell_type": "code",
   "execution_count": 32,
   "id": "f4b66051",
   "metadata": {},
   "outputs": [
    {
     "data": {
      "text/plain": [
       "False"
      ]
     },
     "execution_count": 32,
     "metadata": {},
     "output_type": "execute_result"
    }
   ],
   "source": [
    "sento and shower #かつ"
   ]
  },
  {
   "cell_type": "code",
   "execution_count": 33,
   "id": "d4cd06df",
   "metadata": {},
   "outputs": [
    {
     "data": {
      "text/plain": [
       "True"
      ]
     },
     "execution_count": 33,
     "metadata": {},
     "output_type": "execute_result"
    }
   ],
   "source": [
    "sento or shower #または"
   ]
  },
  {
   "cell_type": "markdown",
   "id": "a432bfc5",
   "metadata": {},
   "source": [
    "# if文"
   ]
  },
  {
   "cell_type": "code",
   "execution_count": 34,
   "id": "c68c15c8",
   "metadata": {},
   "outputs": [
    {
     "name": "stdout",
     "output_type": "stream",
     "text": [
      "im gonna go to sento\n"
     ]
    }
   ],
   "source": [
    "if sento:\n",
    "    print(\"im gonna go to sento\")"
   ]
  },
  {
   "cell_type": "code",
   "execution_count": 35,
   "id": "cc4e4db7",
   "metadata": {},
   "outputs": [
    {
     "name": "stdout",
     "output_type": "stream",
     "text": [
      "im gonna go to my bathroom\n",
      "take my towel\n"
     ]
    }
   ],
   "source": [
    "if shower:\n",
    "    print(\"im gonna go to sento\")\n",
    "else:\n",
    "    print(\"im gonna go to my bathroom\")\n",
    "    print(\"take my towel\")"
   ]
  },
  {
   "cell_type": "markdown",
   "id": "d39134a4",
   "metadata": {},
   "source": [
    "# for文"
   ]
  },
  {
   "cell_type": "code",
   "execution_count": null,
   "id": "5810c07c",
   "metadata": {},
   "outputs": [],
   "source": []
  },
  {
   "cell_type": "code",
   "execution_count": null,
   "id": "ec27ee3b",
   "metadata": {},
   "outputs": [],
   "source": []
  },
  {
   "cell_type": "markdown",
   "id": "6edd89e1",
   "metadata": {},
   "source": [
    "# NUMPYをインポートする"
   ]
  },
  {
   "cell_type": "code",
   "execution_count": 1,
   "id": "58a24c0c",
   "metadata": {},
   "outputs": [
    {
     "name": "stdout",
     "output_type": "stream",
     "text": [
      "2.2.6\n"
     ]
    }
   ],
   "source": [
    "import numpy as np\n",
    "print(np.__version__)"
   ]
  },
  {
   "cell_type": "markdown",
   "id": "837530d7",
   "metadata": {},
   "source": []
  },
  {
   "cell_type": "markdown",
   "id": "d2f1a657",
   "metadata": {},
   "source": [
    "![適切な仮想環境カーネルを指定しないとnumpyすら起動しないぞ]('./dataset/appropriate_kernel.png')"
   ]
  },
  {
   "cell_type": "markdown",
   "id": "60278a32",
   "metadata": {},
   "source": []
  }
 ],
 "metadata": {
  "kernelspec": {
   "display_name": "3.13.3",
   "language": "python",
   "name": "python3"
  },
  "language_info": {
   "codemirror_mode": {
    "name": "ipython",
    "version": 3
   },
   "file_extension": ".py",
   "mimetype": "text/x-python",
   "name": "python",
   "nbconvert_exporter": "python",
   "pygments_lexer": "ipython3",
   "version": "3.13.3"
  }
 },
 "nbformat": 4,
 "nbformat_minor": 5
}
