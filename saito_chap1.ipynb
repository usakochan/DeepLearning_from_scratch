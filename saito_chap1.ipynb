{
 "cells": [
  {
   "cell_type": "code",
   "execution_count": 1,
   "id": "30582911",
   "metadata": {},
   "outputs": [
    {
     "name": "stdout",
     "output_type": "stream",
     "text": [
      "Hello Python!\n"
     ]
    }
   ],
   "source": [
    "print(\"Hello Python!\")"
   ]
  },
  {
   "cell_type": "markdown",
   "id": "47049c28",
   "metadata": {},
   "source": [
    "# 算術計算"
   ]
  },
  {
   "cell_type": "code",
   "execution_count": 2,
   "id": "9beed9c3",
   "metadata": {},
   "outputs": [
    {
     "data": {
      "text/plain": [
       "20"
      ]
     },
     "execution_count": 2,
     "metadata": {},
     "output_type": "execute_result"
    }
   ],
   "source": [
    "4*5"
   ]
  },
  {
   "cell_type": "code",
   "execution_count": 3,
   "id": "b3a60a43",
   "metadata": {},
   "outputs": [
    {
     "data": {
      "text/plain": [
       "-12"
      ]
     },
     "execution_count": 3,
     "metadata": {},
     "output_type": "execute_result"
    }
   ],
   "source": [
    "1-13"
   ]
  },
  {
   "cell_type": "code",
   "execution_count": 4,
   "id": "e800a477",
   "metadata": {},
   "outputs": [
    {
     "data": {
      "text/plain": [
       "0.125"
      ]
     },
     "execution_count": 4,
     "metadata": {},
     "output_type": "execute_result"
    }
   ],
   "source": [
    "1/8"
   ]
  },
  {
   "cell_type": "code",
   "execution_count": 5,
   "id": "03bb1f53",
   "metadata": {},
   "outputs": [
    {
     "data": {
      "text/plain": [
       "1024"
      ]
     },
     "execution_count": 5,
     "metadata": {},
     "output_type": "execute_result"
    }
   ],
   "source": [
    "2 ** 10"
   ]
  },
  {
   "cell_type": "code",
   "execution_count": 6,
   "id": "f8802a8a",
   "metadata": {},
   "outputs": [
    {
     "data": {
      "text/plain": [
       "0.3333333333333333"
      ]
     },
     "execution_count": 6,
     "metadata": {},
     "output_type": "execute_result"
    }
   ],
   "source": [
    "1 / 3"
   ]
  },
  {
   "cell_type": "markdown",
   "id": "49c057a6",
   "metadata": {},
   "source": [
    "# データ型 (data type)"
   ]
  },
  {
   "cell_type": "code",
   "execution_count": 7,
   "id": "a7dea799",
   "metadata": {},
   "outputs": [
    {
     "data": {
      "text/plain": [
       "int"
      ]
     },
     "execution_count": 7,
     "metadata": {},
     "output_type": "execute_result"
    }
   ],
   "source": [
    "type(10)"
   ]
  },
  {
   "cell_type": "code",
   "execution_count": 8,
   "id": "dc9e74a8",
   "metadata": {},
   "outputs": [
    {
     "data": {
      "text/plain": [
       "float"
      ]
     },
     "execution_count": 8,
     "metadata": {},
     "output_type": "execute_result"
    }
   ],
   "source": [
    "type(3.141592658589793238)"
   ]
  },
  {
   "cell_type": "code",
   "execution_count": 9,
   "id": "c6844ee6",
   "metadata": {},
   "outputs": [
    {
     "data": {
      "text/plain": [
       "str"
      ]
     },
     "execution_count": 9,
     "metadata": {},
     "output_type": "execute_result"
    }
   ],
   "source": [
    "type(\"rio!\")"
   ]
  },
  {
   "cell_type": "markdown",
   "id": "896bbd37",
   "metadata": {},
   "source": [
    "# 変数 (variable)"
   ]
  },
  {
   "cell_type": "code",
   "execution_count": 10,
   "id": "a6838ca5",
   "metadata": {},
   "outputs": [],
   "source": [
    "x = 10 #初期化"
   ]
  },
  {
   "cell_type": "code",
   "execution_count": 11,
   "id": "93a1d957",
   "metadata": {},
   "outputs": [
    {
     "name": "stdout",
     "output_type": "stream",
     "text": [
      "10\n"
     ]
    }
   ],
   "source": [
    "print(x)"
   ]
  },
  {
   "cell_type": "code",
   "execution_count": 12,
   "id": "2399cce3",
   "metadata": {},
   "outputs": [],
   "source": [
    "x = 100 #代入"
   ]
  },
  {
   "cell_type": "code",
   "execution_count": 13,
   "id": "7cf40cad",
   "metadata": {},
   "outputs": [
    {
     "name": "stdout",
     "output_type": "stream",
     "text": [
      "100\n"
     ]
    }
   ],
   "source": [
    "print(x)"
   ]
  },
  {
   "cell_type": "code",
   "execution_count": 14,
   "id": "8a02af25",
   "metadata": {},
   "outputs": [
    {
     "data": {
      "text/plain": [
       "141.0"
      ]
     },
     "execution_count": 14,
     "metadata": {},
     "output_type": "execute_result"
    }
   ],
   "source": [
    "y = 1.41\n",
    "x * y"
   ]
  },
  {
   "cell_type": "code",
   "execution_count": 15,
   "id": "a54cd0e7",
   "metadata": {},
   "outputs": [
    {
     "data": {
      "text/plain": [
       "float"
      ]
     },
     "execution_count": 15,
     "metadata": {},
     "output_type": "execute_result"
    }
   ],
   "source": [
    "type(x*y)"
   ]
  },
  {
   "cell_type": "code",
   "execution_count": 16,
   "id": "d12259f0",
   "metadata": {},
   "outputs": [
    {
     "data": {
      "text/plain": [
       "int"
      ]
     },
     "execution_count": 16,
     "metadata": {},
     "output_type": "execute_result"
    }
   ],
   "source": [
    "y=3\n",
    "type(x*y)"
   ]
  },
  {
   "cell_type": "markdown",
   "id": "10ad6aa4",
   "metadata": {},
   "source": [
    "# リスト（配列）"
   ]
  },
  {
   "cell_type": "code",
   "execution_count": 17,
   "id": "01c4d014",
   "metadata": {},
   "outputs": [
    {
     "name": "stdout",
     "output_type": "stream",
     "text": [
      "[1, 2, 3, 4, 5]\n"
     ]
    }
   ],
   "source": [
    "a = [1, 2, 3, 4, 5]\n",
    "print(a)"
   ]
  },
  {
   "cell_type": "code",
   "execution_count": 18,
   "id": "3adaaa64",
   "metadata": {},
   "outputs": [
    {
     "data": {
      "text/plain": [
       "5"
      ]
     },
     "execution_count": 18,
     "metadata": {},
     "output_type": "execute_result"
    }
   ],
   "source": [
    "len(a) #リストのlength長さ"
   ]
  },
  {
   "cell_type": "code",
   "execution_count": 19,
   "id": "0548fa78",
   "metadata": {},
   "outputs": [
    {
     "data": {
      "text/plain": [
       "1"
      ]
     },
     "execution_count": 19,
     "metadata": {},
     "output_type": "execute_result"
    }
   ],
   "source": [
    "a[0] #インデックスの0番目（最初の要素）にアクセス"
   ]
  },
  {
   "cell_type": "code",
   "execution_count": 20,
   "id": "6afd343b",
   "metadata": {},
   "outputs": [
    {
     "data": {
      "text/plain": [
       "5"
      ]
     },
     "execution_count": 20,
     "metadata": {},
     "output_type": "execute_result"
    }
   ],
   "source": [
    "a[4] #インデックスの4番目（つまり5個目）の要素にアクセス"
   ]
  },
  {
   "cell_type": "code",
   "execution_count": 21,
   "id": "93aaac19",
   "metadata": {},
   "outputs": [
    {
     "name": "stdout",
     "output_type": "stream",
     "text": [
      "[1, 2, 3, 4, 99]\n"
     ]
    }
   ],
   "source": [
    "a[4] = 99 #値を代入\n",
    "print(a)"
   ]
  },
  {
   "cell_type": "markdown",
   "id": "137e5323",
   "metadata": {},
   "source": [
    "リストのサブリストにアクセスするスライシング（slicing）が可能。"
   ]
  },
  {
   "cell_type": "code",
   "execution_count": 22,
   "id": "645ee7b5",
   "metadata": {},
   "outputs": [
    {
     "data": {
      "text/plain": [
       "[1, 2]"
      ]
     },
     "execution_count": 22,
     "metadata": {},
     "output_type": "execute_result"
    }
   ],
   "source": [
    "a[0:2] #インデックス0–2番目まで（なのに2番目は含まない！）取得"
   ]
  },
  {
   "cell_type": "code",
   "execution_count": 23,
   "id": "bbaced0f",
   "metadata": {},
   "outputs": [
    {
     "data": {
      "text/plain": [
       "[2, 3, 4, 99]"
      ]
     },
     "execution_count": 23,
     "metadata": {},
     "output_type": "execute_result"
    }
   ],
   "source": [
    "a[1:] #インデックス１番目から最後まで"
   ]
  },
  {
   "cell_type": "code",
   "execution_count": 24,
   "id": "7a27b729",
   "metadata": {},
   "outputs": [
    {
     "data": {
      "text/plain": [
       "[1, 2, 3]"
      ]
     },
     "execution_count": 24,
     "metadata": {},
     "output_type": "execute_result"
    }
   ],
   "source": [
    "a[:3] #最初からインデックス3番目まで（3番目は含まない！）"
   ]
  },
  {
   "cell_type": "code",
   "execution_count": 25,
   "id": "6ddfd543",
   "metadata": {},
   "outputs": [
    {
     "data": {
      "text/plain": [
       "[1, 2, 3, 4]"
      ]
     },
     "execution_count": 25,
     "metadata": {},
     "output_type": "execute_result"
    }
   ],
   "source": [
    "a[:-1] #最初から最後の要素の一つ前まで(インデックス番号-1は最後の要素を指す)"
   ]
  },
  {
   "cell_type": "code",
   "execution_count": 26,
   "id": "5e49fab2",
   "metadata": {},
   "outputs": [
    {
     "data": {
      "text/plain": [
       "[1, 2, 3]"
      ]
     },
     "execution_count": 26,
     "metadata": {},
     "output_type": "execute_result"
    }
   ],
   "source": [
    "a[:-2] #(インデックス番号-2は最後からひとつ前の要素を指す)"
   ]
  },
  {
   "cell_type": "code",
   "execution_count": 27,
   "id": "d8235fc4",
   "metadata": {},
   "outputs": [
    {
     "data": {
      "text/plain": [
       "[3, 4]"
      ]
     },
     "execution_count": 27,
     "metadata": {},
     "output_type": "execute_result"
    }
   ],
   "source": [
    "a[-3:-1] #最後の要素から3つ前まで、から、最後の要素から1つ前まで"
   ]
  },
  {
   "cell_type": "markdown",
   "id": "d0b21fa9",
   "metadata": {},
   "source": [
    "# ブーリアン"
   ]
  },
  {
   "cell_type": "code",
   "execution_count": 28,
   "id": "03cb6dfb",
   "metadata": {},
   "outputs": [],
   "source": [
    "sento = True\n",
    "shower = False"
   ]
  },
  {
   "cell_type": "code",
   "execution_count": 29,
   "id": "49fd6bcd",
   "metadata": {},
   "outputs": [
    {
     "data": {
      "text/plain": [
       "bool"
      ]
     },
     "execution_count": 29,
     "metadata": {},
     "output_type": "execute_result"
    }
   ],
   "source": [
    "type(sento)"
   ]
  },
  {
   "cell_type": "code",
   "execution_count": 30,
   "id": "9d2b8066",
   "metadata": {},
   "outputs": [
    {
     "data": {
      "text/plain": [
       "bool"
      ]
     },
     "execution_count": 30,
     "metadata": {},
     "output_type": "execute_result"
    }
   ],
   "source": [
    "type(shower)"
   ]
  },
  {
   "cell_type": "code",
   "execution_count": 31,
   "id": "99132933",
   "metadata": {},
   "outputs": [
    {
     "data": {
      "text/plain": [
       "False"
      ]
     },
     "execution_count": 31,
     "metadata": {},
     "output_type": "execute_result"
    }
   ],
   "source": [
    "not sento"
   ]
  },
  {
   "cell_type": "code",
   "execution_count": 32,
   "id": "f4b66051",
   "metadata": {},
   "outputs": [
    {
     "data": {
      "text/plain": [
       "False"
      ]
     },
     "execution_count": 32,
     "metadata": {},
     "output_type": "execute_result"
    }
   ],
   "source": [
    "sento and shower #かつ"
   ]
  },
  {
   "cell_type": "code",
   "execution_count": 33,
   "id": "d4cd06df",
   "metadata": {},
   "outputs": [
    {
     "data": {
      "text/plain": [
       "True"
      ]
     },
     "execution_count": 33,
     "metadata": {},
     "output_type": "execute_result"
    }
   ],
   "source": [
    "sento or shower #または"
   ]
  },
  {
   "cell_type": "markdown",
   "id": "a432bfc5",
   "metadata": {},
   "source": [
    "# if文"
   ]
  },
  {
   "cell_type": "code",
   "execution_count": 34,
   "id": "c68c15c8",
   "metadata": {},
   "outputs": [
    {
     "name": "stdout",
     "output_type": "stream",
     "text": [
      "im gonna go to sento\n"
     ]
    }
   ],
   "source": [
    "if sento:\n",
    "    print(\"im gonna go to sento\")"
   ]
  },
  {
   "cell_type": "code",
   "execution_count": 35,
   "id": "cc4e4db7",
   "metadata": {},
   "outputs": [
    {
     "name": "stdout",
     "output_type": "stream",
     "text": [
      "im gonna go to my bathroom\n",
      "take my towel\n"
     ]
    }
   ],
   "source": [
    "if shower:\n",
    "    print(\"im gonna go to sento\")\n",
    "else:\n",
    "    print(\"im gonna go to my bathroom\")\n",
    "    print(\"take my towel\")"
   ]
  },
  {
   "cell_type": "markdown",
   "id": "d39134a4",
   "metadata": {},
   "source": [
    "# for文"
   ]
  },
  {
   "cell_type": "code",
   "execution_count": 1,
   "id": "5810c07c",
   "metadata": {},
   "outputs": [
    {
     "name": "stdout",
     "output_type": "stream",
     "text": [
      "1\n",
      "1\n",
      "2\n",
      "3\n",
      "5\n",
      "8\n",
      "13\n",
      "21\n",
      "34\n"
     ]
    }
   ],
   "source": [
    "for i in [1, 1, 2, 3, 5, 8, 13, 21, 34]:\n",
    "    print(i)"
   ]
  },
  {
   "cell_type": "markdown",
   "id": "e168192c",
   "metadata": {},
   "source": [
    "# 関数"
   ]
  },
  {
   "cell_type": "code",
   "execution_count": null,
   "id": "ec27ee3b",
   "metadata": {},
   "outputs": [
    {
     "name": "stdout",
     "output_type": "stream",
     "text": [
      "hello world\n"
     ]
    }
   ],
   "source": [
    "def sayhello():\n",
    "    print(\"hello world\")\n",
    "\n",
    "sayhello()"
   ]
  },
  {
   "cell_type": "code",
   "execution_count": 14,
   "id": "2d501598",
   "metadata": {},
   "outputs": [
    {
     "name": "stdout",
     "output_type": "stream",
     "text": [
      "today is 10/12 desu.\n"
     ]
    }
   ],
   "source": [
    "def today(date):\n",
    "    print(\"today is \" + date + \" desu.\")\n",
    "\n",
    "today(\"10/12\")"
   ]
  },
  {
   "cell_type": "markdown",
   "id": "9d883cc8",
   "metadata": {},
   "source": [
    "# クラス"
   ]
  },
  {
   "cell_type": "code",
   "execution_count": 17,
   "id": "1c50bf44",
   "metadata": {},
   "outputs": [
    {
     "name": "stdout",
     "output_type": "stream",
     "text": [
      "initialised!\n",
      "This is a final call for Japan Airlines JL902!\n",
      "Japan Airlines, flight JL902 is soon arriving!\n"
     ]
    }
   ],
   "source": [
    "class JAL:\n",
    "    def __init__(self, flightnum): #これは初期化メソッド（コンストラクタ）でインスタンスと呼ばれる。ここではflightnumという引数をとる。後のself.numを初期化する。\n",
    "        self.num = flightnum #第一引数にself（自分自身）を明示する。このインスタンス変数（self.num）は、個々のインスタンスに格納される変数のことで、selfに続けて属性名を書くことで作成・アクセスが可能。\n",
    "        print(\"initialised!\")\n",
    "\n",
    "    def departure(self):\n",
    "        print(\"This is a final call for Japan Airlines \" + self.num + \"!\")\n",
    "\n",
    "    def arrival(self):\n",
    "        print(\"Japan Airlines, flight \" + self.num + \" is soon arriving!\")\n",
    "\n",
    "j = JAL(\"JL902\")\n",
    "j.departure()\n",
    "j.arrival()"
   ]
  },
  {
   "cell_type": "markdown",
   "id": "6edd89e1",
   "metadata": {},
   "source": [
    "# NUMPYをインポートする"
   ]
  },
  {
   "cell_type": "code",
   "execution_count": 1,
   "id": "58a24c0c",
   "metadata": {},
   "outputs": [
    {
     "name": "stdout",
     "output_type": "stream",
     "text": [
      "2.2.6\n"
     ]
    }
   ],
   "source": [
    "import numpy as np\n",
    "print(np.__version__)"
   ]
  },
  {
   "cell_type": "markdown",
   "id": "d2f1a657",
   "metadata": {},
   "source": [
    "![適切な仮想環境カーネルを指定しないとnumpyすら起動しないぞ]('./dataset/appropriate_kernel.png')"
   ]
  },
  {
   "cell_type": "markdown",
   "id": "4eb7a15e",
   "metadata": {},
   "source": [
    "# NumPy配列で遊ぶ"
   ]
  },
  {
   "cell_type": "code",
   "execution_count": 9,
   "id": "b781f0ad",
   "metadata": {},
   "outputs": [
    {
     "name": "stdout",
     "output_type": "stream",
     "text": [
      "[1.  2.5 3.7 4.  5.  6. ]\n"
     ]
    },
    {
     "data": {
      "text/plain": [
       "numpy.ndarray"
      ]
     },
     "execution_count": 9,
     "metadata": {},
     "output_type": "execute_result"
    }
   ],
   "source": [
    "x = np.array([1.0, 2.5, 3.7, 4.00, 5.000, 6])\n",
    "print(x)\n",
    "type(x)"
   ]
  },
  {
   "cell_type": "code",
   "execution_count": 11,
   "id": "0a665885",
   "metadata": {},
   "outputs": [
    {
     "data": {
      "text/plain": [
       "(6,)"
      ]
     },
     "execution_count": 11,
     "metadata": {},
     "output_type": "execute_result"
    }
   ],
   "source": [
    "x.shape"
   ]
  },
  {
   "cell_type": "code",
   "execution_count": 12,
   "id": "84b0ae4a",
   "metadata": {},
   "outputs": [
    {
     "data": {
      "text/plain": [
       "dtype('float64')"
      ]
     },
     "execution_count": 12,
     "metadata": {},
     "output_type": "execute_result"
    }
   ],
   "source": [
    "x.dtype"
   ]
  },
  {
   "cell_type": "code",
   "execution_count": 13,
   "id": "a4291846",
   "metadata": {},
   "outputs": [
    {
     "data": {
      "text/plain": [
       "array([ 8., 12., 15.])"
      ]
     },
     "execution_count": 13,
     "metadata": {},
     "output_type": "execute_result"
    }
   ],
   "source": [
    "x = np.array([2.0, 4.0, 6.0])\n",
    "y = np.array([6.0, 8.0, 9.0])\n",
    "x + y"
   ]
  },
  {
   "cell_type": "code",
   "execution_count": 14,
   "id": "651e4c35",
   "metadata": {},
   "outputs": [
    {
     "data": {
      "text/plain": [
       "array([-4., -4., -3.])"
      ]
     },
     "execution_count": 14,
     "metadata": {},
     "output_type": "execute_result"
    }
   ],
   "source": [
    "x - y"
   ]
  },
  {
   "cell_type": "code",
   "execution_count": 15,
   "id": "730f00b2",
   "metadata": {},
   "outputs": [
    {
     "data": {
      "text/plain": [
       "array([12., 32., 54.])"
      ]
     },
     "execution_count": 15,
     "metadata": {},
     "output_type": "execute_result"
    }
   ],
   "source": [
    "x * y"
   ]
  },
  {
   "cell_type": "code",
   "execution_count": 16,
   "id": "724213ca",
   "metadata": {},
   "outputs": [
    {
     "data": {
      "text/plain": [
       "array([0.33333333, 0.5       , 0.66666667])"
      ]
     },
     "execution_count": 16,
     "metadata": {},
     "output_type": "execute_result"
    }
   ],
   "source": [
    "x / y"
   ]
  },
  {
   "cell_type": "code",
   "execution_count": 17,
   "id": "d95669fd",
   "metadata": {},
   "outputs": [
    {
     "data": {
      "text/plain": [
       "array([1., 2., 3.])"
      ]
     },
     "execution_count": 17,
     "metadata": {},
     "output_type": "execute_result"
    }
   ],
   "source": [
    "x / 2.0"
   ]
  },
  {
   "cell_type": "code",
   "execution_count": null,
   "id": "2297479f",
   "metadata": {},
   "outputs": [
    {
     "name": "stdout",
     "output_type": "stream",
     "text": [
      "[[1 2]\n",
      " [3 4]]\n"
     ]
    }
   ],
   "source": [
    "A = np.array([[1, 2], [3, 4]]) #[]の二重構造が必要だよ！\n",
    "print(A)"
   ]
  },
  {
   "cell_type": "code",
   "execution_count": null,
   "id": "0afde6c3",
   "metadata": {},
   "outputs": [
    {
     "data": {
      "text/plain": [
       "(2, 2)"
      ]
     },
     "execution_count": 20,
     "metadata": {},
     "output_type": "execute_result"
    }
   ],
   "source": [
    "A.shape #形状"
   ]
  },
  {
   "cell_type": "code",
   "execution_count": 22,
   "id": "235509aa",
   "metadata": {},
   "outputs": [
    {
     "data": {
      "text/plain": [
       "dtype('int64')"
      ]
     },
     "execution_count": 22,
     "metadata": {},
     "output_type": "execute_result"
    }
   ],
   "source": [
    "A.dtype #データ型"
   ]
  },
  {
   "cell_type": "code",
   "execution_count": 31,
   "id": "b37d1bb2",
   "metadata": {},
   "outputs": [
    {
     "data": {
      "text/plain": [
       "(2, 1)"
      ]
     },
     "execution_count": 31,
     "metadata": {},
     "output_type": "execute_result"
    }
   ],
   "source": [
    "C = np.array([[3.0], [5]])\n",
    "C.shape"
   ]
  },
  {
   "cell_type": "code",
   "execution_count": 37,
   "id": "7a5a0185",
   "metadata": {},
   "outputs": [
    {
     "data": {
      "text/plain": [
       "array([[ 9.],\n",
       "       [15.]])"
      ]
     },
     "execution_count": 37,
     "metadata": {},
     "output_type": "execute_result"
    }
   ],
   "source": [
    "C * 3"
   ]
  },
  {
   "cell_type": "code",
   "execution_count": 33,
   "id": "93f98aa0",
   "metadata": {},
   "outputs": [
    {
     "data": {
      "text/plain": [
       "(2,)"
      ]
     },
     "execution_count": 33,
     "metadata": {},
     "output_type": "execute_result"
    }
   ],
   "source": [
    "D = np.array([3, 5])\n",
    "D.shape"
   ]
  },
  {
   "cell_type": "code",
   "execution_count": 23,
   "id": "54fe903f",
   "metadata": {},
   "outputs": [
    {
     "data": {
      "text/plain": [
       "array([[ 4,  2],\n",
       "       [ 3, 10]])"
      ]
     },
     "execution_count": 23,
     "metadata": {},
     "output_type": "execute_result"
    }
   ],
   "source": [
    "B = np.array([[3, 0], [0, 6]])\n",
    "A + B"
   ]
  },
  {
   "cell_type": "markdown",
   "id": "bde798ad",
   "metadata": {},
   "source": [
    "reminder:  \n",
    " A = np.array([[1, 2], [3, 4]])  \n",
    " B = np.array([[3, 0], [0, 6]])  \n",
    " C = np.array([[3], [5]])  \n",
    " D = np.array([3, 5])  "
   ]
  },
  {
   "cell_type": "code",
   "execution_count": null,
   "id": "d6a71d56",
   "metadata": {},
   "outputs": [
    {
     "data": {
      "text/plain": [
       "array([[ 3,  0],\n",
       "       [ 0, 24]])"
      ]
     },
     "execution_count": 25,
     "metadata": {},
     "output_type": "execute_result"
    }
   ],
   "source": [
    "A * B #要素ごとに計算するので行列の積とは異なる（ブロードキャスト）"
   ]
  },
  {
   "cell_type": "code",
   "execution_count": 26,
   "id": "d39b2b63",
   "metadata": {},
   "outputs": [
    {
     "data": {
      "text/plain": [
       "array([[10, 20],\n",
       "       [30, 40]])"
      ]
     },
     "execution_count": 26,
     "metadata": {},
     "output_type": "execute_result"
    }
   ],
   "source": [
    "A * 10"
   ]
  },
  {
   "cell_type": "code",
   "execution_count": 27,
   "id": "6a36ad94",
   "metadata": {},
   "outputs": [
    {
     "data": {
      "text/plain": [
       "array([[3, 0],\n",
       "       [9, 0]])"
      ]
     },
     "execution_count": 27,
     "metadata": {},
     "output_type": "execute_result"
    }
   ],
   "source": [
    "A * [3, 0]"
   ]
  },
  {
   "cell_type": "code",
   "execution_count": 34,
   "id": "936060e3",
   "metadata": {},
   "outputs": [
    {
     "data": {
      "text/plain": [
       "array([[ 3.,  6.],\n",
       "       [15., 20.]])"
      ]
     },
     "execution_count": 34,
     "metadata": {},
     "output_type": "execute_result"
    }
   ],
   "source": [
    "A * C"
   ]
  },
  {
   "cell_type": "code",
   "execution_count": 35,
   "id": "af798060",
   "metadata": {},
   "outputs": [
    {
     "data": {
      "text/plain": [
       "array([[ 3, 10],\n",
       "       [ 9, 20]])"
      ]
     },
     "execution_count": 35,
     "metadata": {},
     "output_type": "execute_result"
    }
   ],
   "source": [
    "A * D"
   ]
  },
  {
   "cell_type": "code",
   "execution_count": 61,
   "id": "2fcc62c6",
   "metadata": {},
   "outputs": [
    {
     "name": "stdout",
     "output_type": "stream",
     "text": [
      "[[51 55]\n",
      " [14 19]\n",
      " [ 0  4]]\n"
     ]
    }
   ],
   "source": [
    "X = np.array([[51, 55], [14, 19], [0, 4]])\n",
    "print(X)"
   ]
  },
  {
   "cell_type": "code",
   "execution_count": null,
   "id": "962bd355",
   "metadata": {},
   "outputs": [
    {
     "data": {
      "text/plain": [
       "array([51, 55])"
      ]
     },
     "execution_count": 40,
     "metadata": {},
     "output_type": "execute_result"
    }
   ],
   "source": [
    "X[0] #インデックスは0スタート"
   ]
  },
  {
   "cell_type": "code",
   "execution_count": 41,
   "id": "9937a7b6",
   "metadata": {},
   "outputs": [
    {
     "data": {
      "text/plain": [
       "array([3.])"
      ]
     },
     "execution_count": 41,
     "metadata": {},
     "output_type": "execute_result"
    }
   ],
   "source": [
    "C[0]"
   ]
  },
  {
   "cell_type": "code",
   "execution_count": 42,
   "id": "2a031e00",
   "metadata": {},
   "outputs": [
    {
     "data": {
      "text/plain": [
       "np.int64(3)"
      ]
     },
     "execution_count": 42,
     "metadata": {},
     "output_type": "execute_result"
    }
   ],
   "source": [
    "D[0]"
   ]
  },
  {
   "cell_type": "code",
   "execution_count": 43,
   "id": "7cad1029",
   "metadata": {},
   "outputs": [
    {
     "data": {
      "text/plain": [
       "np.int64(55)"
      ]
     },
     "execution_count": 43,
     "metadata": {},
     "output_type": "execute_result"
    }
   ],
   "source": [
    "X[0][1]"
   ]
  },
  {
   "cell_type": "code",
   "execution_count": 45,
   "id": "a7f1b5be",
   "metadata": {},
   "outputs": [
    {
     "data": {
      "text/plain": [
       "np.int64(55)"
      ]
     },
     "execution_count": 45,
     "metadata": {},
     "output_type": "execute_result"
    }
   ],
   "source": [
    "X[0, 1] #これでもいいよな"
   ]
  },
  {
   "cell_type": "code",
   "execution_count": 48,
   "id": "dea6aa64",
   "metadata": {},
   "outputs": [
    {
     "name": "stdout",
     "output_type": "stream",
     "text": [
      "[51 55]\n",
      "[14 19]\n",
      "[0 4]\n"
     ]
    }
   ],
   "source": [
    "for row in X:\n",
    "    print(row)"
   ]
  },
  {
   "cell_type": "code",
   "execution_count": null,
   "id": "2342d6cd",
   "metadata": {},
   "outputs": [
    {
     "name": "stdout",
     "output_type": "stream",
     "text": [
      "[51 55 14 19  0  4]\n"
     ]
    }
   ],
   "source": [
    "X = X.flatten() #なんで括弧がいるのかわからん.関数だからってこと？\n",
    "print(X)"
   ]
  },
  {
   "cell_type": "code",
   "execution_count": 66,
   "id": "f73e1907",
   "metadata": {},
   "outputs": [
    {
     "data": {
      "text/plain": [
       "np.int64(51)"
      ]
     },
     "execution_count": 66,
     "metadata": {},
     "output_type": "execute_result"
    }
   ],
   "source": [
    "X[0]"
   ]
  },
  {
   "cell_type": "code",
   "execution_count": 68,
   "id": "a61397e1",
   "metadata": {},
   "outputs": [
    {
     "data": {
      "text/plain": [
       "array([51, 14,  4])"
      ]
     },
     "execution_count": 68,
     "metadata": {},
     "output_type": "execute_result"
    }
   ],
   "source": [
    "X[np.array([0, 2, 5])]"
   ]
  },
  {
   "cell_type": "code",
   "execution_count": 69,
   "id": "38e55ffe",
   "metadata": {},
   "outputs": [
    {
     "data": {
      "text/plain": [
       "array([ True,  True, False,  True, False, False])"
      ]
     },
     "execution_count": 69,
     "metadata": {},
     "output_type": "execute_result"
    }
   ],
   "source": [
    "X > 16"
   ]
  },
  {
   "cell_type": "code",
   "execution_count": 70,
   "id": "967b9d50",
   "metadata": {},
   "outputs": [
    {
     "data": {
      "text/plain": [
       "array([51, 55, 19])"
      ]
     },
     "execution_count": 70,
     "metadata": {},
     "output_type": "execute_result"
    }
   ],
   "source": [
    "X[X>16]"
   ]
  },
  {
   "cell_type": "markdown",
   "id": "e4fb27ec",
   "metadata": {},
   "source": [
    "# Matplotlib"
   ]
  },
  {
   "cell_type": "code",
   "execution_count": null,
   "id": "e7b70a60",
   "metadata": {},
   "outputs": [
    {
     "data": {
      "image/png": "[encoded data removed]",
      "text/plain": [
       "<Figure size 640x480 with 1 Axes>"
      ]
     },
     "metadata": {},
     "output_type": "display_data"
    }
   ],
   "source": [
    "x = np.arange(0, 6, 0.1) # 0から6まで0.1刻みで生成, つまり[0, 0.1, 0.2, …, 5.8, 5.9]を生成する。\n",
    "y = np.sin(x)\n",
    "\n",
    "import matplotlib.pyplot as plt\n",
    "plt.plot(x, y) #離散的なxを与えているのにも関わらず滑らかな図を作る\n",
    "plt.show()"
   ]
  },
  {
   "cell_type": "code",
   "execution_count": 78,
   "id": "a988c343",
   "metadata": {},
   "outputs": [
    {
     "data": {
      "image/png": "[encoded data removed]",
      "text/plain": [
       "<Figure size 640x480 with 1 Axes>"
      ]
     },
     "metadata": {},
     "output_type": "display_data"
    }
   ],
   "source": [
    "x = np.arange(0, 6, 0.25) #荒目に設定してみる\n",
    "y1 = np.sin(x)\n",
    "y2 = np.cos(x)\n",
    "\n",
    "plt.plot(x, y1 + 1, label=\"my height\")\n",
    "plt.plot(x, y2 + 1, linestyle = \"--\", label=\"my foot size\")\n",
    "plt.xlabel(\"age\")\n",
    "plt.ylabel(\"cm\")\n",
    "plt.title('my childhood records')\n",
    "plt.legend()\n",
    "plt.show()"
   ]
  }
 ],
 "metadata": {
  "kernelspec": {
   "display_name": "3.13.3",
   "language": "python",
   "name": "python3"
  },
  "language_info": {
   "codemirror_mode": {
    "name": "ipython",
    "version": 3
   },
   "file_extension": ".py",
   "mimetype": "text/x-python",
   "name": "python",
   "nbconvert_exporter": "python",
   "pygments_lexer": "ipython3",
   "version": "3.13.3"
  }
 },
 "nbformat": 4,
 "nbformat_minor": 5
}
