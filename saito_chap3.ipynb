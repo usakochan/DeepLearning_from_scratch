{
 "cells": [
  {
   "cell_type": "code",
   "execution_count": null,
   "id": "d74b7a3e",
   "metadata": {},
   "outputs": [],
   "source": [
    "import sys, os\n",
    "sys.path.append(os.pardir) #親ディレクトリのファイルをインポートするための設定\n",
    "from dataset.mnist import load_mnist #dataset>mnistを親ディレクトリ（rio's atelier）から引っ張って、load_mnist してもらう"
   ]
  },
  {
   "cell_type": "code",
   "execution_count": 10,
   "id": "788f4408",
   "metadata": {},
   "outputs": [],
   "source": [
    "(x_train, t_train), (x_test, t_test) = \\\n",
    "    load_mnist(flatten=True, normalize=False) #flatten一次元配列にするか;normalize正規化するか"
   ]
  },
  {
   "cell_type": "code",
   "execution_count": null,
   "id": "1a08da2a",
   "metadata": {},
   "outputs": [
    {
     "name": "stdout",
     "output_type": "stream",
     "text": [
      "(60000, 784)\n",
      "(60000,)\n",
      "(10000, 784)\n",
      "(10000,)\n"
     ]
    }
   ],
   "source": [
    "print(x_train.shape) #訓練画像\n",
    "print(t_train.shape) #訓練ラベル\n",
    "print(x_test.shape) #テスト画像\n",
    "print(t_test.shape) #テストラベル"
   ]
  },
  {
   "cell_type": "markdown",
   "id": "07832022",
   "metadata": {},
   "source": [
    "つまり、training image:60,000枚、test image: 10,000枚ある。  \n",
    "28*28のグレー画像で、各ピクセルは0-255の値をとる。  \n",
    "ラベルは[7], [3]など。"
   ]
  },
  {
   "cell_type": "code",
   "execution_count": null,
   "id": "c4d0a29f",
   "metadata": {},
   "outputs": [],
   "source": []
  }
 ],
 "metadata": {
  "kernelspec": {
   "display_name": "3.13.3",
   "language": "python",
   "name": "python3"
  },
  "language_info": {
   "codemirror_mode": {
    "name": "ipython",
    "version": 3
   },
   "file_extension": ".py",
   "mimetype": "text/x-python",
   "name": "python",
   "nbconvert_exporter": "python",
   "pygments_lexer": "ipython3",
   "version": "3.13.3"
  }
 },
 "nbformat": 4,
 "nbformat_minor": 5
}
